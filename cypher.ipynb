{
  "nbformat": 4,
  "nbformat_minor": 0,
  "metadata": {
    "colab": {
      "name": "cypher.ipynb",
      "provenance": [],
      "authorship_tag": "ABX9TyN9Rn2ExAjMRoeoncWGqKX3",
      "include_colab_link": true
    },
    "kernelspec": {
      "name": "python3",
      "display_name": "Python 3"
    },
    "language_info": {
      "name": "python"
    }
  },
  "cells": [
    {
      "cell_type": "markdown",
      "metadata": {
        "id": "view-in-github",
        "colab_type": "text"
      },
      "source": [
        "<a href=\"https://colab.research.google.com/github/sreyasqb/computer-networks/blob/main/cypher.ipynb\" target=\"_parent\"><img src=\"https://colab.research.google.com/assets/colab-badge.svg\" alt=\"Open In Colab\"/></a>"
      ]
    },
    {
      "cell_type": "markdown",
      "source": [
        "\n",
        "# CAESAR CYPHER\n"
      ],
      "metadata": {
        "id": "Oy_9P_LWgnCN"
      }
    },
    {
      "cell_type": "code",
      "execution_count": null,
      "metadata": {
        "colab": {
          "base_uri": "https://localhost:8080/"
        },
        "id": "hhT1D8fLbqD0",
        "outputId": "48406423-5c80-4181-caac-46962c5826bf"
      },
      "outputs": [
        {
          "output_type": "stream",
          "name": "stdout",
          "text": [
            "TCXLSR\n",
            "OXSGNM\n"
          ]
        }
      ],
      "source": [
        "def encrypt_caesar(s,k):\n",
        "    return ''.join([chr((ord(i)-65+k)%26+65) for i in s.upper()])  \n",
        "print(encrypt_caesar('python',4))\n",
        "\n",
        "def decrypt_caesar(s,k):\n",
        "    return ''.join([chr((ord(i)-65-k)%26+65) for i in s.upper()])\n",
        "print(decrypt_caesar('SBWKRQ',4))"
      ]
    },
    {
      "cell_type": "markdown",
      "source": [
        "# VIGENERE CYPHER"
      ],
      "metadata": {
        "id": "agpG7SAqlEP7"
      }
    },
    {
      "cell_type": "code",
      "source": [
        "def encrypt_vigenere(s, key):\n",
        "    slen,klen=len(s),len(key)\n",
        "    return ''.join([chr((ord(s.upper()[i])+ord(key.upper()[i%klen])-130)%26+65) for i in range(len(s))])\n",
        "print(encrypt_vigenere('ATTACKATDAWN','LEMON'))\n",
        "\n",
        "def decrypt_vigenere(s, key):\n",
        "    slen,klen=len(s),len(key)\n",
        "    return ''.join([chr((ord(s.upper()[i])-ord(key.upper()[i%klen]))%26+65) for i in range(slen)])\n",
        "print(decrypt_vigenere('LXFOPVEFRNHR','LEMON'))\n"
      ],
      "metadata": {
        "colab": {
          "base_uri": "https://localhost:8080/"
        },
        "id": "66cVMWirgmKe",
        "outputId": "2d25e54c-84be-4dbc-e8a5-fef2e441dfda"
      },
      "execution_count": null,
      "outputs": [
        {
          "output_type": "stream",
          "name": "stdout",
          "text": [
            "LXFOPVEFRNHR\n",
            "ATTACKATDAWN\n"
          ]
        }
      ]
    },
    {
      "cell_type": "markdown",
      "source": [
        "# VIGENERE CYPHER USING CAESAR CYPHER"
      ],
      "metadata": {
        "id": "oaZW4XT-nRq3"
      }
    },
    {
      "cell_type": "code",
      "source": [
        "def encrypt_vigenere_with_caesar(s,key):\n",
        "    slen,klen=len(s),len(key)\n",
        "    return ''.join([encrypt_caesar(s.upper()[i],ord(key.upper()[i%klen])-65) for i in range(slen)])\n",
        "print(encrypt_vigenere_with_caesar('ATTACKATDAWN','LEMON'))\n",
        "\n",
        "def decrypt_vigenere_with_caesar(s,key):\n",
        "    slen,klen=len(s),len(key)\n",
        "    return ''.join([encrypt_caesar(s.upper()[i],-ord(key.upper()[i%klen])-65) for i in range(slen)])\n",
        "print(decrypt_vigenere_with_caesar('LXFOPVEFRNHR','LEMON'))"
      ],
      "metadata": {
        "colab": {
          "base_uri": "https://localhost:8080/"
        },
        "id": "lgQdCFiOfJBB",
        "outputId": "f1ba0b55-e820-40ff-c304-8c9928d9a28a"
      },
      "execution_count": null,
      "outputs": [
        {
          "output_type": "stream",
          "name": "stdout",
          "text": [
            "LXFOPVEFRNHR\n",
            "ATTACKATDAWN\n"
          ]
        }
      ]
    },
    {
      "cell_type": "code",
      "source": [
        "l=['L','E','M']\n",
        "print(''.join(l))"
      ],
      "metadata": {
        "colab": {
          "base_uri": "https://localhost:8080/"
        },
        "id": "o8kmZqF1pJLQ",
        "outputId": "c55157fd-e831-4ec0-cdb4-82c13463b949"
      },
      "execution_count": null,
      "outputs": [
        {
          "output_type": "stream",
          "name": "stdout",
          "text": [
            "LEM\n"
          ]
        }
      ]
    },
    {
      "cell_type": "code",
      "source": [
        "l=[i for i in 'LEMON']\n",
        "print(l)"
      ],
      "metadata": {
        "colab": {
          "base_uri": "https://localhost:8080/"
        },
        "id": "Wb3RPuDBr2qQ",
        "outputId": "b14f47e9-4213-420a-8c45-3d81c6640ad8"
      },
      "execution_count": null,
      "outputs": [
        {
          "output_type": "stream",
          "name": "stdout",
          "text": [
            "['L', 'E', 'M', 'O', 'N']\n"
          ]
        }
      ]
    }
  ]
}