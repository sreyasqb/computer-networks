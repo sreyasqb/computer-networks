{
  "nbformat": 4,
  "nbformat_minor": 0,
  "metadata": {
    "colab": {
      "name": "crc.ipynb",
      "provenance": [],
      "authorship_tag": "ABX9TyMhkqDSH1+USra+lrJsqaFL",
      "include_colab_link": true
    },
    "kernelspec": {
      "name": "python3",
      "display_name": "Python 3"
    },
    "language_info": {
      "name": "python"
    }
  },
  "cells": [
    {
      "cell_type": "markdown",
      "metadata": {
        "id": "view-in-github",
        "colab_type": "text"
      },
      "source": [
        "<a href=\"https://colab.research.google.com/github/sreyasqb/computer-networks/blob/main/crc.ipynb\" target=\"_parent\"><img src=\"https://colab.research.google.com/assets/colab-badge.svg\" alt=\"Open In Colab\"/></a>"
      ]
    },
    {
      "cell_type": "code",
      "execution_count": null,
      "metadata": {
        "id": "H31Yjo1g-SWx"
      },
      "outputs": [],
      "source": [
        "def xor(a,b):\n",
        "    s,a,b=[],a[1:],b[1:]\n",
        "    for i in range(len(a)):\n",
        "       if a[i]==b[i]:s.append('0')\n",
        "       else:s.append('1')\n",
        "    return s\n",
        "      "
      ]
    },
    {
      "cell_type": "code",
      "source": [
        "def bin_div(divident,divisor):\n",
        "    m,n=len(divident),len(divisor)\n",
        "    remainder=divident[:n]\n",
        "    for i in range(m-n+1):\n",
        "        if remainder[0]=='1':remainder=xor(remainder,divisor)\n",
        "        else:remainder=xor(remainder,['0']*n)\n",
        "        if i+n<m:remainder.append(divident[i+n])\n",
        "    return remainder   "
      ],
      "metadata": {
        "id": "ypWTvy-FNq6f"
      },
      "execution_count": null,
      "outputs": []
    },
    {
      "cell_type": "code",
      "source": [
        "def encode_crc(data,gen):\n",
        "    data,gen,lgen=list(data),list(gen),len(gen)\n",
        "    rem=bin_div(data+['0']*(len(gen)-1),gen)\n",
        "    return data+rem"
      ],
      "metadata": {
        "id": "I0USOUcINwfX"
      },
      "execution_count": null,
      "outputs": []
    },
    {
      "cell_type": "code",
      "source": [
        "def decode_crc(data,gen):\n",
        "    rem=bin_div(list(data),list(gen))\n",
        "    return 'no error' if ['0']*len(rem)==rem else 'error'"
      ],
      "metadata": {
        "id": "sloKGVCjN19_"
      },
      "execution_count": null,
      "outputs": []
    },
    {
      "cell_type": "code",
      "source": [
        "print(*encode_crc('1001','1011'))\n",
        "print(decode_crc('1001110','1011'))"
      ],
      "metadata": {
        "id": "MNqoWIqwN72I"
      },
      "execution_count": null,
      "outputs": []
    }
  ]
}