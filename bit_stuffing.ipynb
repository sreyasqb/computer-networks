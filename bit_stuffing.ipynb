{
  "nbformat": 4,
  "nbformat_minor": 0,
  "metadata": {
    "colab": {
      "name": "bit_stuffing.ipynb",
      "provenance": [],
      "authorship_tag": "ABX9TyPENVPY+VFY/ywo3GlZpKCq",
      "include_colab_link": true
    },
    "kernelspec": {
      "name": "python3",
      "display_name": "Python 3"
    },
    "language_info": {
      "name": "python"
    }
  },
  "cells": [
    {
      "cell_type": "markdown",
      "metadata": {
        "id": "view-in-github",
        "colab_type": "text"
      },
      "source": [
        "<a href=\"https://colab.research.google.com/github/sreyasqb/computer-networks/blob/main/bit_stuffing.ipynb\" target=\"_parent\"><img src=\"https://colab.research.google.com/assets/colab-badge.svg\" alt=\"Open In Colab\"/></a>"
      ]
    },
    {
      "cell_type": "code",
      "execution_count": null,
      "metadata": {
        "colab": {
          "base_uri": "https://localhost:8080/"
        },
        "id": "DlI3N-a-z_K-",
        "outputId": "2c10204f-f198-4ec2-e8f5-4cda1fba7ea4"
      },
      "outputs": [
        {
          "output_type": "stream",
          "name": "stdout",
          "text": [
            "initial data :  ['A', 'ESC', 'B', 'ESC', 'FLAG']\n",
            "data with escape :  ['A', 'ESC', 'ESC', 'B', 'ESC', 'ESC', 'ESC', 'FLAG']\n",
            "data with byte stuffing :  ['01000001', '10100011', '10100011', '01000010', '10100011', '10100011', '10100011', '01111110']\n",
            "data with bit stuffing :  ['01000001', '10100011', '10100011', '01000010', '10100011', '10100011', '10100011', '011111010']\n",
            "final data :  01111110 01000001 10100011 10100011 01000010 10100011 10100011 10100011 011111010 01111110\n"
          ]
        }
      ],
      "source": [
        "s='A ESC B ESC FLAG'\n",
        "ESC='10100011'\n",
        "FLAG='01111110'\n",
        "def byte_bit_stuffing(s):\n",
        "    l,i,c=s.split(),0,0\n",
        "    print('initial data : ',l)\n",
        "    while c<len(l):\n",
        "        if l[c] in ['ESC','FLAG']:l,c=l[:c]+['ESC']+l[c:],c+1\n",
        "        i,c=i+1,c+1\n",
        "    print('data with escape : ',l)\n",
        "    l=list(map(lambda x:bin(ord(x))[2:].zfill(8) if x not in ['ESC','FLAG'] else ESC if x=='ESC' else FLAG,l))\n",
        "    print('data with byte stuffing : ',l)\n",
        "    for i in range(len(l)):\n",
        "        ind=l[i].find('011111')+6\n",
        "        if ind>5:l[i]=l[i][:ind]+'0'+l[i][ind:]\n",
        "    print('data with bit stuffing : ',l)\n",
        "    print('final data : ',FLAG,*l,FLAG)\n",
        "byte_bit_stuffing(s)\n"
      ]
    },
    {
      "cell_type": "code",
      "source": [
        ""
      ],
      "metadata": {
        "colab": {
          "base_uri": "https://localhost:8080/"
        },
        "id": "2qsgxKS50kkA",
        "outputId": "48e18e24-47df-4394-b3e5-d55b6584affb"
      },
      "execution_count": null,
      "outputs": [
        {
          "output_type": "stream",
          "name": "stdout",
          "text": [
            "2 2\n"
          ]
        }
      ]
    },
    {
      "cell_type": "code",
      "source": [
        ""
      ],
      "metadata": {
        "id": "Rt8Xpimc_0nF"
      },
      "execution_count": null,
      "outputs": []
    }
  ]
}