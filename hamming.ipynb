{
  "nbformat": 4,
  "nbformat_minor": 0,
  "metadata": {
    "colab": {
      "name": "hamming.ipynb",
      "provenance": [],
      "authorship_tag": "ABX9TyOlEtLJSs3YXPi+jKdlSXwt",
      "include_colab_link": true
    },
    "kernelspec": {
      "name": "python3",
      "display_name": "Python 3"
    },
    "language_info": {
      "name": "python"
    }
  },
  "cells": [
    {
      "cell_type": "markdown",
      "metadata": {
        "id": "view-in-github",
        "colab_type": "text"
      },
      "source": [
        "<a href=\"https://colab.research.google.com/github/sreyasqb/computer-networks/blob/main/hamming.ipynb\" target=\"_parent\"><img src=\"https://colab.research.google.com/assets/colab-badge.svg\" alt=\"Open In Colab\"/></a>"
      ]
    },
    {
      "cell_type": "code",
      "execution_count": null,
      "metadata": {
        "colab": {
          "base_uri": "https://localhost:8080/"
        },
        "id": "r1Lp-zY_z19b",
        "outputId": "cecd70f4-afc3-4b06-df97-b4600455f2da"
      },
      "outputs": [
        {
          "output_type": "stream",
          "name": "stdout",
          "text": [
            "01011\n"
          ]
        }
      ],
      "source": [
        "def findR(b,m):\n",
        "    i=0\n",
        "    while 2**i<i+m+1:i+=1\n",
        "    return i\n",
        "        \n",
        "def hammingCode(b,s):\n",
        "    m=len(b)\n",
        "    b=list(b)\n",
        "    r=findR(b,m)\n",
        "    b=b[::-1]\n",
        "    for i in range(r):\n",
        "        b.insert(2**i-1,'*'*(i+1))\n",
        "    for i in range(r):\n",
        "        c=0\n",
        "        l=[]\n",
        "        for j in range(2**(i),m+r+1,2**(i+1)):\n",
        "            l.extend(list(range(j,j+2**(i))))\n",
        "        for k in l:\n",
        "            if k<=m+r and b[k-1]=='1':c+=1          \n",
        "        if s=='even':\n",
        "            b[2**i-1]='0' if c%2==0 else '1'\n",
        "        elif s=='odd':\n",
        "            b[2**i-1]='0' if c%2!=0 else '1'\n",
        "\n",
        "    b=b[::-1]\n",
        "    print(*b,sep='')   \n",
        "\n",
        "hammingCode('00','odd')\n",
        "    "
      ]
    },
    {
      "cell_type": "code",
      "source": [
        "def decodeHaming():\n",
        "    "
      ],
      "metadata": {
        "id": "Iez666vj42u0"
      },
      "execution_count": null,
      "outputs": []
    },
    {
      "cell_type": "code",
      "source": [
        "b='1001101'"
      ],
      "metadata": {
        "id": "p81r31Dz0FKN"
      },
      "execution_count": null,
      "outputs": []
    }
  ]
}